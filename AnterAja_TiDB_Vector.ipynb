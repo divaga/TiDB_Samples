{
  "nbformat": 4,
  "nbformat_minor": 0,
  "metadata": {
    "colab": {
      "provenance": []
    },
    "kernelspec": {
      "name": "python3",
      "display_name": "Python 3"
    },
    "language_info": {
      "name": "python"
    }
  },
  "cells": [
    {
      "cell_type": "markdown",
      "source": [
        "# TiDB Serverless Vector Search"
      ],
      "metadata": {
        "id": "2tuXb2crasyd"
      }
    },
    {
      "cell_type": "code",
      "source": [
        "# Install Sentence Transformer & Connector for TiDB\n",
        "!pip install sentence-transformers\n",
        "!pip install mysql-connector-python"
      ],
      "metadata": {
        "id": "qyz-Z49gM9n6"
      },
      "execution_count": null,
      "outputs": []
    },
    {
      "cell_type": "markdown",
      "source": [
        "## Use SentenceTransformers and convert sentences into text embedding"
      ],
      "metadata": {
        "id": "KqabB-bPODfM"
      }
    },
    {
      "cell_type": "code",
      "execution_count": null,
      "metadata": {
        "id": "ZrPXGcmGLZpE"
      },
      "outputs": [],
      "source": [
        "from sentence_transformers import SentenceTransformer\n",
        "model = SentenceTransformer('all-MiniLM-L6-v2')\n",
        "input_texts = [\n",
        "    'Anteraja menyediakan tiga pilihan layanan, yaitu Regular, Next-Day dan Same-Day. Untuk Regular merupakan jasa pengiriman parsel dalam kurun waktu 2-4 hari (Wilayah Pulau Jawa) dan 5-9 hari (Wilayah Luar Pulau Jawa), kemudian untuk Next-Day merupakan jasa pengiriman parsel dalam kurun waktu 1 hari, sedangkan untuk Same-Day merupakan jasa pengiriman parsel dalam kurun waktu 8 jam',\n",
        "    'Proses pick up parsel akan dimulai pada pukul 10:00 s.d pukul 20:00, sedangkan untuk proses pengiriman parsel dimulai pada pukul 08:00 s.d pukul 20:00 setiap harinya. Request pickup melebihi jam diatas berpotensi dikirim keesokan harinya.',\n",
        "    'Jangkauan pengiriman Anteraja sudah mencakup 30 provinsi di Indonesia, untuk lebih lengkapnya silahkan masuk ke fitur cek tarif di Aplikasi Anteraja',\n",
        "    'Kamu dapat melakukan cancel order dengan cara memilih pesanan yang ingin dibatalkan pada menu My Activity kemudian klik tombol cancel order. Pesanan hanya dapat dibatalkan sebelum paket berhasil terpickup.',\n",
        "    'Batas pengiriman yang dapat diproses oleh ANTERAJA adalah 50 (lima puluh) kilogram, apabila melebihi batas berat yang telah ditentukan maka pihak ANTERAJA dapat menolak melakukan pengambilan atas transaksi terkait.']\n",
        "text_embeddings = model.encode(input_texts)"
      ]
    },
    {
      "cell_type": "markdown",
      "source": [
        "### Want to see how is text embedding look like?"
      ],
      "metadata": {
        "id": "2Vu_EVIOPkI3"
      }
    },
    {
      "cell_type": "code",
      "source": [
        "print(text_embeddings)"
      ],
      "metadata": {
        "id": "2tEzdL63Pi5u"
      },
      "execution_count": null,
      "outputs": []
    },
    {
      "cell_type": "code",
      "source": [
        "print(\"Size of array for each sentence is\")\n",
        "print(text_embeddings[1].size)"
      ],
      "metadata": {
        "id": "c9xKEckDPzgC"
      },
      "execution_count": null,
      "outputs": []
    },
    {
      "cell_type": "markdown",
      "source": [
        "## Connect to TiDB Serverless & prepare the table"
      ],
      "metadata": {
        "id": "BQjKkf0oOaF0"
      }
    },
    {
      "cell_type": "code",
      "source": [
        "# Vector Playground\n",
        "import mysql.connector\n",
        "\n",
        "conn = mysql.connector.connect(user='<your-tidb-user>', password='<your-tidb-password>', host='<your-tidb-host>', port=4000, database='test')\n",
        "mycursor = conn.cursor()"
      ],
      "metadata": {
        "id": "YimaR9DCNwvw"
      },
      "execution_count": null,
      "outputs": []
    },
    {
      "cell_type": "code",
      "source": [
        "mycursor.execute(\"DROP TABLE IF EXISTS my_text\")\n",
        "mycursor.execute(\"CREATE TABLE my_text (str TEXT, embeddings VECTOR)\")"
      ],
      "metadata": {
        "id": "l9ApJMShQJ5-"
      },
      "execution_count": null,
      "outputs": []
    },
    {
      "cell_type": "markdown",
      "source": [
        "## Insert our text embedding to TiDB Serverless as Vector data"
      ],
      "metadata": {
        "id": "OHqPutSmOg3r"
      }
    },
    {
      "cell_type": "code",
      "source": [
        "sql = \"INSERT INTO my_text (str, embeddings) VALUES (%s, %s)\"\n",
        "\n",
        "for sentence, embedding in zip(input_texts, text_embeddings):\n",
        "  val = (sentence, str(embedding.tolist()))\n",
        "  mycursor.execute(sql, val)\n",
        "conn.commit()"
      ],
      "metadata": {
        "id": "ekFxdjSBPXhD"
      },
      "execution_count": null,
      "outputs": []
    },
    {
      "cell_type": "markdown",
      "source": [
        "## Compare our search text with embedding data"
      ],
      "metadata": {
        "id": "o_xCyQULOszO"
      }
    },
    {
      "cell_type": "code",
      "source": [
        "search_text = \"Kemana saja jangkauan pengiriman yang dapat dilakukan oleh Anteraja\"\n",
        "search_embedding = str(model.encode(search_text).tolist())"
      ],
      "metadata": {
        "id": "zUIKtxgXO8w1"
      },
      "execution_count": null,
      "outputs": []
    },
    {
      "cell_type": "code",
      "source": [
        "search_text = \"Bagaimana melakukan cancel order?\"\n",
        "search_embedding = str(model.encode(search_text).tolist())"
      ],
      "metadata": {
        "id": "Wl6Ifdb5MFXa"
      },
      "execution_count": null,
      "outputs": []
    },
    {
      "cell_type": "code",
      "source": [
        "# Let see our search embedding\n",
        "print(model.encode(search_text))"
      ],
      "metadata": {
        "id": "SDD6qgimRSHY"
      },
      "execution_count": null,
      "outputs": []
    },
    {
      "cell_type": "code",
      "source": [
        "sql_str = \"SELECT a.str,vec_cosine_distance(a.embeddings,'\" + search_embedding + \"') as sim_score FROM my_text a ORDER BY sim_score ASC LIMIT 3\"\n",
        "mycursor.execute(sql_str)\n",
        "\n",
        "myresult = mycursor.fetchall()\n",
        "for x in myresult:\n",
        "  print(x)"
      ],
      "metadata": {
        "id": "oXpett4oEWKZ"
      },
      "execution_count": null,
      "outputs": []
    },
    {
      "cell_type": "code",
      "source": [
        "# let reorder the list\n",
        "min_tuple = min(myresult, key=lambda x: x[1])\n"
      ],
      "metadata": {
        "id": "OmTaHPLY3FQP"
      },
      "execution_count": null,
      "outputs": []
    },
    {
      "cell_type": "code",
      "source": [
        "print(\"Q: \" + search_text)\n",
        "print(\"A: \" + min_tuple[0])\n",
        "print(\"Score: \" + str(min_tuple[1]))"
      ],
      "metadata": {
        "id": "KrsUYTrf4reQ"
      },
      "execution_count": null,
      "outputs": []
    },
    {
      "cell_type": "code",
      "source": [
        "conn.close()"
      ],
      "metadata": {
        "id": "8s5QefSDX9hY"
      },
      "execution_count": null,
      "outputs": []
    }
  ]
}
